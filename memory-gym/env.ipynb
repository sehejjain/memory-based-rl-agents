{
 "cells": [
  {
   "cell_type": "code",
   "execution_count": 1,
   "metadata": {},
   "outputs": [],
   "source": [
    "# load autoreloader\n",
    "%reload_ext autoreload\n",
    "%autoreload 2"
   ]
  },
  {
   "cell_type": "code",
   "execution_count": 31,
   "metadata": {},
   "outputs": [],
   "source": [
    "# import memory_maze\n",
    "import gym, os\n",
    "\n",
    "# import tensorflow as tf\n",
    "# os.environ[\"DISPLAY\"] = \":0\"\n",
    "# os.environ['MUJOCO_GL'] = 'glfw'\n",
    "# os.environ['PYOPENGL_PLATFORM'] = 'glfw'\n",
    "# PYOPENGL_PLATFORM=egl\n",
    "# from tf_agents.environments import suite_gym, tf_py_environment\n",
    "import numpy as np\n",
    "import torch\n",
    "from stable_baselines3 import PPO\n",
    "from stable_baselines3.common.callbacks import (\n",
    "    BaseCallback,\n",
    "    CallbackList,\n",
    "    CheckpointCallback,\n",
    "    EvalCallback,\n",
    ")\n",
    "from stable_baselines3.common.monitor import Monitor\n",
    "\n",
    "from sb3 import model_vis_vec as model_lib"
   ]
  },
  {
   "cell_type": "code",
   "execution_count": 17,
   "metadata": {},
   "outputs": [],
   "source": [
    "# os.environ['MUJOCO_GL']"
   ]
  },
  {
   "cell_type": "code",
   "execution_count": 18,
   "metadata": {},
   "outputs": [
    {
     "name": "stderr",
     "output_type": "stream",
     "text": [
      "WARNING:absl:Cannot set velocity on Entity with no free joint.\n"
     ]
    }
   ],
   "source": [
    "# !export MUJOCO_GL=\"glfw\"\n",
    "# %env MUJOCO_GL=egl\n",
    "\n",
    "env = gym.make('memory_maze:MemoryMaze-9x9-v0')\n",
    "obs = env.reset()"
   ]
  },
  {
   "cell_type": "code",
   "execution_count": 19,
   "metadata": {},
   "outputs": [
    {
     "data": {
      "text/plain": [
       "array([[[ 80, 137,  71],\n",
       "        [ 80, 137,  71],\n",
       "        [ 80, 137,  71],\n",
       "        ...,\n",
       "        [ 80, 137,  71],\n",
       "        [ 80, 137,  71],\n",
       "        [ 80, 137,  71]],\n",
       "\n",
       "       [[ 80, 137,  71],\n",
       "        [ 80, 137,  71],\n",
       "        [ 80, 137,  71],\n",
       "        ...,\n",
       "        [ 80, 137,  71],\n",
       "        [ 80, 137,  71],\n",
       "        [ 80, 137,  71]],\n",
       "\n",
       "       [[ 80, 137,  71],\n",
       "        [ 80, 137,  71],\n",
       "        [ 22,  78, 118],\n",
       "        ...,\n",
       "        [ 32, 117, 179],\n",
       "        [ 80, 137,  71],\n",
       "        [ 80, 137,  71]],\n",
       "\n",
       "       ...,\n",
       "\n",
       "       [[ 80, 137,  71],\n",
       "        [ 80, 137,  71],\n",
       "        [ 32, 117, 178],\n",
       "        ...,\n",
       "        [ 31, 111, 169],\n",
       "        [ 80, 137,  71],\n",
       "        [ 80, 137,  71]],\n",
       "\n",
       "       [[ 80, 137,  71],\n",
       "        [ 80, 137,  71],\n",
       "        [ 80, 137,  71],\n",
       "        ...,\n",
       "        [ 80, 137,  71],\n",
       "        [ 80, 137,  71],\n",
       "        [ 80, 137,  71]],\n",
       "\n",
       "       [[ 80, 137,  71],\n",
       "        [ 80, 137,  71],\n",
       "        [ 80, 137,  71],\n",
       "        ...,\n",
       "        [ 80, 137,  71],\n",
       "        [ 80, 137,  71],\n",
       "        [ 80, 137,  71]]], dtype=uint8)"
      ]
     },
     "execution_count": 19,
     "metadata": {},
     "output_type": "execute_result"
    }
   ],
   "source": [
    "obs"
   ]
  },
  {
   "cell_type": "code",
   "execution_count": 7,
   "metadata": {},
   "outputs": [],
   "source": [
    "import stable_baselines3"
   ]
  },
  {
   "cell_type": "code",
   "execution_count": 5,
   "metadata": {},
   "outputs": [
    {
     "ename": "AttributeError",
     "evalue": "module 'stable_baselines3.common' has no attribute 'env_checker'",
     "output_type": "error",
     "traceback": [
      "\u001b[0;31m---------------------------------------------------------------------------\u001b[0m",
      "\u001b[0;31mAttributeError\u001b[0m                            Traceback (most recent call last)",
      "Cell \u001b[0;32mIn[5], line 1\u001b[0m\n\u001b[0;32m----> 1\u001b[0m \u001b[43mstable_baselines3\u001b[49m\u001b[38;5;241;43m.\u001b[39;49m\u001b[43mcommon\u001b[49m\u001b[38;5;241;43m.\u001b[39;49m\u001b[43menv_checker\u001b[49m\u001b[38;5;241m.\u001b[39mcheck_env\n",
      "\u001b[0;31mAttributeError\u001b[0m: module 'stable_baselines3.common' has no attribute 'env_checker'"
     ]
    }
   ],
   "source": [
    "stable_baselines3.common.env_checker.check_env"
   ]
  },
  {
   "cell_type": "code",
   "execution_count": 20,
   "metadata": {},
   "outputs": [],
   "source": [
    "import memory_maze"
   ]
  },
  {
   "cell_type": "code",
   "execution_count": 21,
   "metadata": {},
   "outputs": [],
   "source": [
    "env = memory_maze.tasks.memory_maze_9x9()"
   ]
  },
  {
   "cell_type": "code",
   "execution_count": 22,
   "metadata": {},
   "outputs": [
    {
     "data": {
      "text/plain": [
       "<memory_maze.wrappers.DiscreteActionSetWrapper at 0x7f4f4ae4b490>"
      ]
     },
     "execution_count": 22,
     "metadata": {},
     "output_type": "execute_result"
    }
   ],
   "source": [
    "env"
   ]
  },
  {
   "cell_type": "code",
   "execution_count": 13,
   "metadata": {},
   "outputs": [
    {
     "name": "stdout",
     "output_type": "stream",
     "text": [
      "Requirement already satisfied: shimmy[dm-control] in /common/users/sj1030/miniconda3/envs/gym/lib/python3.8/site-packages (1.3.0)\n",
      "Requirement already satisfied: numpy>=1.18.0 in /common/users/sj1030/miniconda3/envs/gym/lib/python3.8/site-packages (from shimmy[dm-control]) (1.24.4)\n",
      "Requirement already satisfied: gymnasium>=0.27.0 in /common/users/sj1030/miniconda3/envs/gym/lib/python3.8/site-packages (from shimmy[dm-control]) (0.29.1)\n",
      "Collecting dm-control>=1.0.10 (from shimmy[dm-control])\n",
      "  Using cached dm_control-1.0.15-py3-none-any.whl.metadata (1.3 kB)\n",
      "Requirement already satisfied: imageio in /common/users/sj1030/miniconda3/envs/gym/lib/python3.8/site-packages (from shimmy[dm-control]) (2.32.0)\n",
      "Collecting h5py>=3.7.0 (from shimmy[dm-control])\n",
      "  Downloading h5py-3.10.0-cp38-cp38-manylinux_2_17_x86_64.manylinux2014_x86_64.whl.metadata (2.5 kB)\n",
      "Requirement already satisfied: absl-py>=0.7.0 in /common/home/sj1030/.local/lib/python3.8/site-packages (from dm-control>=1.0.10->shimmy[dm-control]) (1.4.0)\n",
      "Requirement already satisfied: dm-env in /common/users/sj1030/miniconda3/envs/gym/lib/python3.8/site-packages (from dm-control>=1.0.10->shimmy[dm-control]) (1.6)\n",
      "Requirement already satisfied: dm-tree!=0.1.2 in /common/users/sj1030/miniconda3/envs/gym/lib/python3.8/site-packages (from dm-control>=1.0.10->shimmy[dm-control]) (0.1.8)\n",
      "Requirement already satisfied: glfw in /common/users/sj1030/miniconda3/envs/gym/lib/python3.8/site-packages (from dm-control>=1.0.10->shimmy[dm-control]) (2.6.2)\n",
      "Requirement already satisfied: labmaze in /common/users/sj1030/miniconda3/envs/gym/lib/python3.8/site-packages (from dm-control>=1.0.10->shimmy[dm-control]) (1.0.6)\n",
      "Requirement already satisfied: lxml in /common/users/sj1030/miniconda3/envs/gym/lib/python3.8/site-packages (from dm-control>=1.0.10->shimmy[dm-control]) (4.9.3)\n",
      "Collecting mujoco>=3.0.0 (from dm-control>=1.0.10->shimmy[dm-control])\n",
      "  Using cached mujoco-3.0.0-cp38-cp38-manylinux_2_17_x86_64.manylinux2014_x86_64.whl.metadata (44 kB)\n",
      "Requirement already satisfied: protobuf>=3.19.4 in /common/home/sj1030/.local/lib/python3.8/site-packages (from dm-control>=1.0.10->shimmy[dm-control]) (4.22.3)\n",
      "Requirement already satisfied: pyopengl>=3.1.4 in /common/users/sj1030/miniconda3/envs/gym/lib/python3.8/site-packages (from dm-control>=1.0.10->shimmy[dm-control]) (3.1.7)\n",
      "Collecting pyparsing>=3.0.0 (from dm-control>=1.0.10->shimmy[dm-control])\n",
      "  Using cached pyparsing-3.1.1-py3-none-any.whl.metadata (5.1 kB)\n",
      "Requirement already satisfied: requests in /common/users/sj1030/miniconda3/envs/gym/lib/python3.8/site-packages (from dm-control>=1.0.10->shimmy[dm-control]) (2.31.0)\n",
      "Requirement already satisfied: setuptools!=50.0.0 in /common/users/sj1030/miniconda3/envs/gym/lib/python3.8/site-packages (from dm-control>=1.0.10->shimmy[dm-control]) (68.0.0)\n",
      "Requirement already satisfied: scipy in /common/users/sj1030/miniconda3/envs/gym/lib/python3.8/site-packages (from dm-control>=1.0.10->shimmy[dm-control]) (1.10.1)\n",
      "Requirement already satisfied: tqdm in /common/users/sj1030/miniconda3/envs/gym/lib/python3.8/site-packages (from dm-control>=1.0.10->shimmy[dm-control]) (4.66.1)\n",
      "Requirement already satisfied: cloudpickle>=1.2.0 in /common/users/sj1030/miniconda3/envs/gym/lib/python3.8/site-packages (from gymnasium>=0.27.0->shimmy[dm-control]) (3.0.0)\n",
      "Requirement already satisfied: typing-extensions>=4.3.0 in /common/users/sj1030/miniconda3/envs/gym/lib/python3.8/site-packages (from gymnasium>=0.27.0->shimmy[dm-control]) (4.8.0)\n",
      "Requirement already satisfied: farama-notifications>=0.0.1 in /common/users/sj1030/miniconda3/envs/gym/lib/python3.8/site-packages (from gymnasium>=0.27.0->shimmy[dm-control]) (0.0.4)\n",
      "Requirement already satisfied: importlib-metadata>=4.8.0 in /common/home/sj1030/.local/lib/python3.8/site-packages (from gymnasium>=0.27.0->shimmy[dm-control]) (6.5.0)\n",
      "Requirement already satisfied: pillow<10.1.0,>=8.3.2 in /common/users/sj1030/miniconda3/envs/gym/lib/python3.8/site-packages (from imageio->shimmy[dm-control]) (10.0.1)\n",
      "Requirement already satisfied: zipp>=0.5 in /common/users/sj1030/miniconda3/envs/gym/lib/python3.8/site-packages (from importlib-metadata>=4.8.0->gymnasium>=0.27.0->shimmy[dm-control]) (3.17.0)\n",
      "Requirement already satisfied: etils[epath] in /common/users/sj1030/miniconda3/envs/gym/lib/python3.8/site-packages (from mujoco>=3.0.0->dm-control>=1.0.10->shimmy[dm-control]) (1.3.0)\n",
      "Requirement already satisfied: charset-normalizer<4,>=2 in /common/users/sj1030/miniconda3/envs/gym/lib/python3.8/site-packages (from requests->dm-control>=1.0.10->shimmy[dm-control]) (3.3.2)\n",
      "Requirement already satisfied: idna<4,>=2.5 in /common/users/sj1030/miniconda3/envs/gym/lib/python3.8/site-packages (from requests->dm-control>=1.0.10->shimmy[dm-control]) (3.4)\n",
      "Requirement already satisfied: urllib3<3,>=1.21.1 in /common/users/sj1030/miniconda3/envs/gym/lib/python3.8/site-packages (from requests->dm-control>=1.0.10->shimmy[dm-control]) (2.1.0)\n",
      "Requirement already satisfied: certifi>=2017.4.17 in /common/users/sj1030/miniconda3/envs/gym/lib/python3.8/site-packages (from requests->dm-control>=1.0.10->shimmy[dm-control]) (2023.7.22)\n",
      "Requirement already satisfied: importlib_resources in /common/users/sj1030/miniconda3/envs/gym/lib/python3.8/site-packages (from etils[epath]->mujoco>=3.0.0->dm-control>=1.0.10->shimmy[dm-control]) (6.1.1)\n",
      "Using cached dm_control-1.0.15-py3-none-any.whl (55.4 MB)\n",
      "Downloading h5py-3.10.0-cp38-cp38-manylinux_2_17_x86_64.manylinux2014_x86_64.whl (4.8 MB)\n",
      "\u001b[2K   \u001b[38;2;114;156;31m━━━━━━━━━━━━━━━━━━━━━━━━━━━━━━━━━━━━━━━━\u001b[0m \u001b[32m4.8/4.8 MB\u001b[0m \u001b[31m13.1 MB/s\u001b[0m eta \u001b[36m0:00:00\u001b[0mm eta \u001b[36m0:00:01\u001b[0m0:01\u001b[0m\n",
      "\u001b[?25hUsing cached mujoco-3.0.0-cp38-cp38-manylinux_2_17_x86_64.manylinux2014_x86_64.whl (5.3 MB)\n",
      "Using cached pyparsing-3.1.1-py3-none-any.whl (103 kB)\n",
      "Installing collected packages: pyparsing, h5py, mujoco, dm-control\n",
      "  Attempting uninstall: pyparsing\n",
      "    Found existing installation: pyparsing 2.4.7\n",
      "    Uninstalling pyparsing-2.4.7:\n",
      "      Successfully uninstalled pyparsing-2.4.7\n",
      "  Attempting uninstall: mujoco\n",
      "    Found existing installation: mujoco 2.1.5\n",
      "    Uninstalling mujoco-2.1.5:\n",
      "      Successfully uninstalled mujoco-2.1.5\n",
      "\u001b[33m  WARNING: Failed to remove contents in a temporary directory '/common/users/sj1030/miniconda3/envs/gym/lib/python3.8/site-packages/~ujoco'.\n",
      "  You can safely remove it manually.\u001b[0m\u001b[33m\n",
      "\u001b[0m  Attempting uninstall: dm-control\n",
      "    Found existing installation: dm-control 1.0.2\n",
      "    Uninstalling dm-control-1.0.2:\n",
      "      Successfully uninstalled dm-control-1.0.2\n",
      "Successfully installed dm-control-1.0.15 h5py-3.10.0 mujoco-3.0.0 pyparsing-3.1.1\n"
     ]
    }
   ],
   "source": [
    "!pip install shimmy[dm-control]"
   ]
  },
  {
   "cell_type": "code",
   "execution_count": 24,
   "metadata": {},
   "outputs": [],
   "source": [
    "from shimmy.dm_control_compatibility import DmControlCompatibilityV0\n",
    "import dm_control.composer as composer\n",
    "import dm_control.rl.control as control\n",
    "import dm_env\n",
    "\n",
    "# Example: Wrapping a dm_control environment\n",
    "# dm_control_env = control.Environment()  # or composer.Environment()\n",
    "env = DmControlCompatibilityV0(env=env, render_mode=None)"
   ]
  },
  {
   "cell_type": "code",
   "execution_count": 25,
   "metadata": {},
   "outputs": [
    {
     "data": {
      "text/plain": [
       "<shimmy.dm_control_compatibility.DmControlCompatibilityV0 at 0x7f507ecab970>"
      ]
     },
     "execution_count": 25,
     "metadata": {},
     "output_type": "execute_result"
    }
   ],
   "source": [
    "env"
   ]
  },
  {
   "cell_type": "code",
   "execution_count": 32,
   "metadata": {},
   "outputs": [],
   "source": [
    "class EpisodicRewardCallback(BaseCallback):\n",
    "    def __init__(self, verbose=0, plot_freq=10, log_dir=\"./tensorboard_logs/\"):\n",
    "        super(EpisodicRewardCallback, self).__init__(verbose)\n",
    "        self.episode_rewards = []\n",
    "        self.plot_freq = plot_freq\n",
    "        self.log_dir = log_dir\n",
    "        self.ep_rewards = 0.0\n",
    "\n",
    "    def on_rollout_start(self) -> None:\n",
    "        # print(\"starting rollout\")\n",
    "        self.ep_rewards = 0.0\n",
    "\n",
    "    def _on_step(self):\n",
    "        self.ep_rewards += self.locals[\"rewards\"][-1]\n",
    "\n",
    "    def _on_rollout_end(self) -> None:\n",
    "        # print(\"ending rollout\")\n",
    "        episode_reward = self.ep_rewards\n",
    "        self.episode_rewards.append(episode_reward)\n",
    "        # print(f\"Episode reward: {episode_reward}\")\n",
    "        with open(\"rewards.npy\", \"wb\") as f:\n",
    "            np.save(file=f, arr=np.array(self.episode_rewards))\n",
    "\n",
    "    # def _on_training_end(self) -> None:\n",
    "    #     self._plot_rewards()\n",
    "\n",
    "    # def _plot_rewards(self):\n",
    "    #     x = np.arange(1, len(self.episode_rewards) + 1)\n",
    "    #     plt.figure(figsize=(10, 5))\n",
    "    #     plt.plot(x, self.episode_rewards)\n",
    "    #     plt.xlabel('Episode')\n",
    "    #     plt.ylabel('Total Reward')\n",
    "    #     plt.title('Episodic Rewards')\n",
    "    #     plt.grid(True)\n",
    "    #     plt.savefig(os.path.join(self.log_dir, 'episodic_rewards.png'))\n",
    "    #     plt.show()\n",
    "\n",
    "\n",
    "def linear_schedule(initial_lr, final_lr, total_steps):\n",
    "    def schedule(progress):\n",
    "        fraction = min(progress / total_steps, 1.0)\n",
    "        return initial_lr + fraction * (final_lr - initial_lr)\n",
    "\n",
    "    return schedule\n",
    "\n",
    "\n",
    "def custom_entropy_schedule(initial_entropy_coef, final_entropy_coef, total_steps):\n",
    "    def entropy_coef_schedule(progress):\n",
    "        fraction = min(progress / total_steps, 1.0)\n",
    "        return torch.tensor(\n",
    "            initial_entropy_coef\n",
    "            + fraction * (final_entropy_coef - initial_entropy_coef),\n",
    "            dtype=torch.float32,\n",
    "        )\n",
    "\n",
    "    return entropy_coef_schedule\n",
    "\n",
    "\n",
    "TOTAL_TIMESTEPS = 170_000_000\n",
    "policy = model_lib.CustomPolicy(\n",
    "    observation_space=env.observation_space,\n",
    "    action_space=env.action_space,\n",
    "    lr_schedule=linear_schedule(\n",
    "        initial_lr=3e-4, final_lr=1e-4, total_steps=TOTAL_TIMESTEPS\n",
    "    ),\n",
    ")  # custom policy network"
   ]
  },
  {
   "cell_type": "code",
   "execution_count": 29,
   "metadata": {},
   "outputs": [
    {
     "ename": "NameError",
     "evalue": "name 'observation_space' is not defined",
     "output_type": "error",
     "traceback": [
      "\u001b[0;31m---------------------------------------------------------------------------\u001b[0m",
      "\u001b[0;31mNameError\u001b[0m                                 Traceback (most recent call last)",
      "Cell \u001b[0;32mIn[29], line 1\u001b[0m\n\u001b[0;32m----> 1\u001b[0m \u001b[43mobservation_space\u001b[49m\n",
      "\u001b[0;31mNameError\u001b[0m: name 'observation_space' is not defined"
     ]
    }
   ],
   "source": [
    "observation_space"
   ]
  },
  {
   "cell_type": "code",
   "execution_count": 30,
   "metadata": {},
   "outputs": [
    {
     "data": {
      "text/plain": [
       "Dict('image': Box(0, 255, (64, 64, 3), uint8), 'target_color': Box(-inf, inf, (3,), float64))"
      ]
     },
     "execution_count": 30,
     "metadata": {},
     "output_type": "execute_result"
    }
   ],
   "source": [
    "env.observation_space"
   ]
  },
  {
   "cell_type": "code",
   "execution_count": null,
   "metadata": {},
   "outputs": [],
   "source": []
  }
 ],
 "metadata": {
  "kernelspec": {
   "display_name": "Python 3 (ipykernel)",
   "language": "python",
   "name": "python3"
  },
  "language_info": {
   "codemirror_mode": {
    "name": "ipython",
    "version": 3
   },
   "file_extension": ".py",
   "mimetype": "text/x-python",
   "name": "python",
   "nbconvert_exporter": "python",
   "pygments_lexer": "ipython3",
   "version": "3.8.18"
  }
 },
 "nbformat": 4,
 "nbformat_minor": 4
}
