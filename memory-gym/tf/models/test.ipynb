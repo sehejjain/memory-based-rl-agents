{
 "cells": [
  {
   "cell_type": "code",
   "execution_count": 1,
   "metadata": {},
   "outputs": [],
   "source": [
    "%reload_ext autoreload\n",
    "%autoreload 2"
   ]
  },
  {
   "cell_type": "code",
   "execution_count": 25,
   "metadata": {},
   "outputs": [],
   "source": [
    "import model\n",
    "import memory_gym, memory_maze\n",
    "# import gym, os\n",
    "import tensorflow as tf\n",
    "import gymnasium as gym\n",
    "\n",
    "from tf_agents.environments import suite_gym, tf_py_environment, random_tf_environment"
   ]
  },
  {
   "cell_type": "code",
   "execution_count": 26,
   "metadata": {},
   "outputs": [
    {
     "ename": "ValueError",
     "evalue": "The gym space Box(0.0, 1.0, (84, 84, 3), float32) is currently not supported.",
     "output_type": "error",
     "traceback": [
      "\u001b[0;31m---------------------------------------------------------------------------\u001b[0m",
      "\u001b[0;31mValueError\u001b[0m                                Traceback (most recent call last)",
      "\u001b[1;32m/Users/sehej/Projects/Learning in Humans and Machines/project-memory-gym/models/test.ipynb Cell 3\u001b[0m line \u001b[0;36m3\n\u001b[1;32m      <a href='vscode-notebook-cell:/Users/sehej/Projects/Learning%20in%20Humans%20and%20Machines/project-memory-gym/models/test.ipynb#W1sZmlsZQ%3D%3D?line=0'>1</a>\u001b[0m \u001b[39m# SearingSpotlights-v0\u001b[39;00m\n\u001b[1;32m      <a href='vscode-notebook-cell:/Users/sehej/Projects/Learning%20in%20Humans%20and%20Machines/project-memory-gym/models/test.ipynb#W1sZmlsZQ%3D%3D?line=1'>2</a>\u001b[0m \u001b[39m# MemoryMaze-9x9-v0\u001b[39;00m\n\u001b[0;32m----> <a href='vscode-notebook-cell:/Users/sehej/Projects/Learning%20in%20Humans%20and%20Machines/project-memory-gym/models/test.ipynb#W1sZmlsZQ%3D%3D?line=2'>3</a>\u001b[0m env \u001b[39m=\u001b[39m suite_gym\u001b[39m.\u001b[39;49mgym_wrapper\u001b[39m.\u001b[39;49mGymWrapper(gym\u001b[39m.\u001b[39;49mmake(\u001b[39m'\u001b[39;49m\u001b[39mSearingSpotlights-v0\u001b[39;49m\u001b[39m'\u001b[39;49m))\n\u001b[1;32m      <a href='vscode-notebook-cell:/Users/sehej/Projects/Learning%20in%20Humans%20and%20Machines/project-memory-gym/models/test.ipynb#W1sZmlsZQ%3D%3D?line=3'>4</a>\u001b[0m obs \u001b[39m=\u001b[39m env\u001b[39m.\u001b[39mreset()\n\u001b[1;32m      <a href='vscode-notebook-cell:/Users/sehej/Projects/Learning%20in%20Humans%20and%20Machines/project-memory-gym/models/test.ipynb#W1sZmlsZQ%3D%3D?line=4'>5</a>\u001b[0m tf_env \u001b[39m=\u001b[39m tf_py_environment\u001b[39m.\u001b[39mTFPyEnvironment(env)\n",
      "File \u001b[0;32m/opt/homebrew/Caskroom/miniconda/base/envs/mem-gym/lib/python3.11/site-packages/tf_agents/environments/gym_wrapper.py:178\u001b[0m, in \u001b[0;36mGymWrapper.__init__\u001b[0;34m(self, gym_env, discount, spec_dtype_map, match_obs_space_dtype, auto_reset, simplify_box_bounds, render_kwargs)\u001b[0m\n\u001b[1;32m    174\u001b[0m \u001b[39mself\u001b[39m\u001b[39m.\u001b[39m_action_is_discrete \u001b[39m=\u001b[39m \u001b[39misinstance\u001b[39m(\n\u001b[1;32m    175\u001b[0m     \u001b[39mself\u001b[39m\u001b[39m.\u001b[39m_gym_env\u001b[39m.\u001b[39maction_space, gym\u001b[39m.\u001b[39mspaces\u001b[39m.\u001b[39mDiscrete\n\u001b[1;32m    176\u001b[0m )\n\u001b[1;32m    177\u001b[0m \u001b[39mself\u001b[39m\u001b[39m.\u001b[39m_match_obs_space_dtype \u001b[39m=\u001b[39m match_obs_space_dtype\n\u001b[0;32m--> 178\u001b[0m \u001b[39mself\u001b[39m\u001b[39m.\u001b[39m_observation_spec \u001b[39m=\u001b[39m spec_from_gym_space(\n\u001b[1;32m    179\u001b[0m     \u001b[39mself\u001b[39;49m\u001b[39m.\u001b[39;49m_gym_env\u001b[39m.\u001b[39;49mobservation_space,\n\u001b[1;32m    180\u001b[0m     spec_dtype_map,\n\u001b[1;32m    181\u001b[0m     simplify_box_bounds,\n\u001b[1;32m    182\u001b[0m     \u001b[39m'\u001b[39;49m\u001b[39mobservation\u001b[39;49m\u001b[39m'\u001b[39;49m,\n\u001b[1;32m    183\u001b[0m )\n\u001b[1;32m    184\u001b[0m \u001b[39mself\u001b[39m\u001b[39m.\u001b[39m_action_spec \u001b[39m=\u001b[39m spec_from_gym_space(\n\u001b[1;32m    185\u001b[0m     \u001b[39mself\u001b[39m\u001b[39m.\u001b[39m_gym_env\u001b[39m.\u001b[39maction_space,\n\u001b[1;32m    186\u001b[0m     spec_dtype_map,\n\u001b[1;32m    187\u001b[0m     simplify_box_bounds,\n\u001b[1;32m    188\u001b[0m     \u001b[39m'\u001b[39m\u001b[39maction\u001b[39m\u001b[39m'\u001b[39m,\n\u001b[1;32m    189\u001b[0m )\n\u001b[1;32m    190\u001b[0m \u001b[39mself\u001b[39m\u001b[39m.\u001b[39m_flat_obs_spec \u001b[39m=\u001b[39m tf\u001b[39m.\u001b[39mnest\u001b[39m.\u001b[39mflatten(\u001b[39mself\u001b[39m\u001b[39m.\u001b[39m_observation_spec)\n",
      "File \u001b[0;32m/opt/homebrew/Caskroom/miniconda/base/envs/mem-gym/lib/python3.11/site-packages/tf_agents/environments/gym_wrapper.py:148\u001b[0m, in \u001b[0;36mspec_from_gym_space\u001b[0;34m(space, dtype_map, simplify_box_bounds, name)\u001b[0m\n\u001b[1;32m    144\u001b[0m   \u001b[39mreturn\u001b[39;00m collections\u001b[39m.\u001b[39mOrderedDict(\n\u001b[1;32m    145\u001b[0m       [(key, nested_spec(s, key)) \u001b[39mfor\u001b[39;00m key, s \u001b[39min\u001b[39;00m space\u001b[39m.\u001b[39mspaces\u001b[39m.\u001b[39mitems()]\n\u001b[1;32m    146\u001b[0m   )\n\u001b[1;32m    147\u001b[0m \u001b[39melse\u001b[39;00m:\n\u001b[0;32m--> 148\u001b[0m   \u001b[39mraise\u001b[39;00m \u001b[39mValueError\u001b[39;00m(\n\u001b[1;32m    149\u001b[0m       \u001b[39m'\u001b[39m\u001b[39mThe gym space \u001b[39m\u001b[39m{}\u001b[39;00m\u001b[39m is currently not supported.\u001b[39m\u001b[39m'\u001b[39m\u001b[39m.\u001b[39mformat(space)\n\u001b[1;32m    150\u001b[0m   )\n",
      "\u001b[0;31mValueError\u001b[0m: The gym space Box(0.0, 1.0, (84, 84, 3), float32) is currently not supported."
     ]
    }
   ],
   "source": [
    "# SearingSpotlights-v0\n",
    "# MemoryMaze-9x9-v0\n",
    "env = suite_gym.gym_wrapper.GymWrapper(gym.make('SearingSpotlights-v0'))\n",
    "obs = env.reset()\n",
    "tf_env = tf_py_environment.TFPyEnvironment(env)"
   ]
  },
  {
   "cell_type": "code",
   "execution_count": 4,
   "metadata": {},
   "outputs": [
    {
     "name": "stderr",
     "output_type": "stream",
     "text": [
      "2023-10-11 19:31:59.467060: I metal_plugin/src/device/metal_device.cc:1154] Metal device set to: Apple M1 Pro\n",
      "2023-10-11 19:31:59.467098: I metal_plugin/src/device/metal_device.cc:296] systemMemory: 16.00 GB\n",
      "2023-10-11 19:31:59.467101: I metal_plugin/src/device/metal_device.cc:313] maxCacheSize: 5.33 GB\n",
      "2023-10-11 19:31:59.467432: I tensorflow/core/common_runtime/pluggable_device/pluggable_device_factory.cc:306] Could not identify NUMA node of platform GPU ID 0, defaulting to 0. Your kernel may not have been built with NUMA support.\n",
      "2023-10-11 19:31:59.467859: I tensorflow/core/common_runtime/pluggable_device/pluggable_device_factory.cc:272] Created TensorFlow device (/job:localhost/replica:0/task:0/device:GPU:0 with 0 MB memory) -> physical PluggableDevice (device: 0, name: METAL, pci bus id: <undefined>)\n"
     ]
    }
   ],
   "source": [
    "m = model.create_grl_models(tf_env.observation_spec(), tf_env.action_spec())"
   ]
  },
  {
   "cell_type": "code",
   "execution_count": 5,
   "metadata": {},
   "outputs": [
    {
     "data": {
      "text/plain": [
       "BoundedTensorSpec(shape=(64, 64, 3), dtype=tf.uint8, name='observation', minimum=array(0, dtype=uint8), maximum=array(255, dtype=uint8))"
      ]
     },
     "execution_count": 5,
     "metadata": {},
     "output_type": "execute_result"
    }
   ],
   "source": [
    "tf_env.observation_spec()"
   ]
  },
  {
   "cell_type": "code",
   "execution_count": 7,
   "metadata": {},
   "outputs": [],
   "source": [
    "p, v = m"
   ]
  },
  {
   "cell_type": "code",
   "execution_count": 8,
   "metadata": {},
   "outputs": [
    {
     "data": {
      "text/plain": [
       "<model.GRUPolicyModel at 0x29fd26950>"
      ]
     },
     "execution_count": 8,
     "metadata": {},
     "output_type": "execute_result"
    }
   ],
   "source": [
    "p"
   ]
  },
  {
   "cell_type": "code",
   "execution_count": 13,
   "metadata": {},
   "outputs": [],
   "source": [
    "renv = random_tf_environment.RandomTFEnvironment(tf_env.time_step_spec(), tf_env.action_spec())"
   ]
  },
  {
   "cell_type": "code",
   "execution_count": 15,
   "metadata": {},
   "outputs": [
    {
     "data": {
      "text/plain": [
       "BoundedTensorSpec(shape=(64, 64, 3), dtype=tf.uint8, name='observation', minimum=array(0, dtype=uint8), maximum=array(255, dtype=uint8))"
      ]
     },
     "execution_count": 15,
     "metadata": {},
     "output_type": "execute_result"
    }
   ],
   "source": [
    "renv.observation_spec()"
   ]
  },
  {
   "cell_type": "code",
   "execution_count": 21,
   "metadata": {},
   "outputs": [
    {
     "data": {
      "text/plain": [
       "<tf.Tensor: shape=(1, 64, 64, 3), dtype=uint8, numpy=\n",
       "array([[[[0, 0, 0],\n",
       "         [0, 0, 0],\n",
       "         [0, 0, 0],\n",
       "         ...,\n",
       "         [0, 0, 0],\n",
       "         [0, 0, 0],\n",
       "         [0, 0, 0]],\n",
       "\n",
       "        [[0, 0, 0],\n",
       "         [0, 0, 0],\n",
       "         [0, 0, 0],\n",
       "         ...,\n",
       "         [0, 0, 0],\n",
       "         [0, 0, 0],\n",
       "         [0, 0, 0]],\n",
       "\n",
       "        [[0, 0, 0],\n",
       "         [0, 0, 0],\n",
       "         [0, 0, 0],\n",
       "         ...,\n",
       "         [0, 0, 0],\n",
       "         [0, 0, 0],\n",
       "         [0, 0, 0]],\n",
       "\n",
       "        ...,\n",
       "\n",
       "        [[0, 0, 0],\n",
       "         [0, 0, 0],\n",
       "         [0, 0, 0],\n",
       "         ...,\n",
       "         [0, 0, 0],\n",
       "         [0, 0, 0],\n",
       "         [0, 0, 0]],\n",
       "\n",
       "        [[0, 0, 0],\n",
       "         [0, 0, 0],\n",
       "         [0, 0, 0],\n",
       "         ...,\n",
       "         [0, 0, 0],\n",
       "         [0, 0, 0],\n",
       "         [0, 0, 0]],\n",
       "\n",
       "        [[0, 0, 0],\n",
       "         [0, 0, 0],\n",
       "         [0, 0, 0],\n",
       "         ...,\n",
       "         [0, 0, 0],\n",
       "         [0, 0, 0],\n",
       "         [0, 0, 0]]]], dtype=uint8)>"
      ]
     },
     "execution_count": 21,
     "metadata": {},
     "output_type": "execute_result"
    }
   ],
   "source": [
    "renv.current_time_step().observation"
   ]
  },
  {
   "cell_type": "code",
   "execution_count": null,
   "metadata": {},
   "outputs": [],
   "source": []
  }
 ],
 "metadata": {
  "kernelspec": {
   "display_name": "mem-gym",
   "language": "python",
   "name": "python3"
  },
  "language_info": {
   "codemirror_mode": {
    "name": "ipython",
    "version": 3
   },
   "file_extension": ".py",
   "mimetype": "text/x-python",
   "name": "python",
   "nbconvert_exporter": "python",
   "pygments_lexer": "ipython3",
   "version": "3.11.5"
  }
 },
 "nbformat": 4,
 "nbformat_minor": 2
}
