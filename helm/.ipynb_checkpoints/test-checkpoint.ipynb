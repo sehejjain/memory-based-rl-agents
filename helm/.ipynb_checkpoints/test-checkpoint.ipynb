{
 "cells": [
  {
   "cell_type": "code",
   "execution_count": 14,
   "metadata": {},
   "outputs": [],
   "source": [
    "\n",
    "import memory_maze\n",
    "from argparse import ArgumentParser\n",
    "import json\n",
    "from experiment import Experiment\n",
    "from torch.multiprocessing import set_start_method\n",
    "from multiprocessing import Process\n"
   ]
  },
  {
   "cell_type": "code",
   "execution_count": 2,
   "metadata": {},
   "outputs": [],
   "source": [
    "def run(config, run_id=None, seed=None):\n",
    "    exp = Experiment(config, experiment_id=run_id)\n",
    "    exp.run(seed=seed)"
   ]
  },
  {
   "cell_type": "code",
   "execution_count": 6,
   "metadata": {},
   "outputs": [],
   "source": [
    "with open('config.json', 'r') as f:\n",
    "    config = json.load(f)"
   ]
  },
  {
   "cell_type": "code",
   "execution_count": 11,
   "metadata": {},
   "outputs": [
    {
     "data": {
      "text/plain": [
       "{'adv_norm': False,\n",
       " 'clip_range_vf': None,\n",
       " 'n_batches': 8,\n",
       " 'batch_size': 16,\n",
       " 'beta': 100,\n",
       " 'beta_lr': 0.001,\n",
       " 'beta_schedule': 'none',\n",
       " 'clip_range': 0.2,\n",
       " 'clip_decay': 'none',\n",
       " 'end_fraction': 1,\n",
       " 'ent_coef': 0.05,\n",
       " 'ent_decay': 'none',\n",
       " 'ent_decay_factor': 0.99,\n",
       " 'env': 'RandomMaze-v0',\n",
       " 'gae_lambda': 0.99,\n",
       " 'gamma': 0.99,\n",
       " 'learning_rate': 0.0001,\n",
       " 'lr_decay': 'none',\n",
       " 'max_grad_norm': 0.5,\n",
       " 'mem_len': 511,\n",
       " 'min_ent_coef': 0,\n",
       " 'min_lr': 0,\n",
       " 'model': 'HELM',\n",
       " 'n_envs': 16,\n",
       " 'n_epochs': 3,\n",
       " 'n_rollout_steps': 128,\n",
       " 'n_steps': 500000,\n",
       " 'optimizer': 'AdamW',\n",
       " 'start_fraction': 0,\n",
       " 'epsilon': 1e-08,\n",
       " 'vf_coef': 0.5,\n",
       " 'seed': None,\n",
       " 'topk': 1}"
      ]
     },
     "execution_count": 11,
     "metadata": {},
     "output_type": "execute_result"
    }
   ],
   "source": [
    "config"
   ]
  },
  {
   "cell_type": "code",
   "execution_count": 15,
   "metadata": {},
   "outputs": [],
   "source": [
    "config['env'] = 'MemoryMaze'"
   ]
  },
  {
   "cell_type": "code",
   "execution_count": 16,
   "metadata": {},
   "outputs": [
    {
     "ename": "",
     "evalue": "",
     "output_type": "error",
     "traceback": [
      "\u001b[1;31mThe Kernel crashed while executing code in the the current cell or a previous cell. Please review the code in the cell(s) to identify a possible cause of the failure. Click <a href='https://aka.ms/vscodeJupyterKernelCrash'>here</a> for more info. View Jupyter <a href='command:jupyter.viewOutput'>log</a> for further details."
     ]
    },
    {
     "ename": "",
     "evalue": "",
     "output_type": "error",
     "traceback": [
      "\u001b[1;31mCanceled future for execute_request message before replies were done"
     ]
    }
   ],
   "source": [
    "run(config, run_id=\"0\", seed=0)"
   ]
  },
  {
   "cell_type": "code",
   "execution_count": null,
   "metadata": {},
   "outputs": [],
   "source": []
  }
 ],
 "metadata": {
  "kernelspec": {
   "display_name": "Python 3 (ipykernel)",
   "language": "python",
   "name": "python3"
  },
  "language_info": {
   "codemirror_mode": {
    "name": "ipython",
    "version": 3
   },
   "file_extension": ".py",
   "mimetype": "text/x-python",
   "name": "python",
   "nbconvert_exporter": "python",
   "pygments_lexer": "ipython3",
   "version": "3.8.12"
  }
 },
 "nbformat": 4,
 "nbformat_minor": 2
}
