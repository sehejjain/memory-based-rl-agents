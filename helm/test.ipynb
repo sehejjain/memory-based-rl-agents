{
 "cells": [
  {
   "cell_type": "code",
   "execution_count": 1,
   "metadata": {},
   "outputs": [
    {
     "name": "stderr",
     "output_type": "stream",
     "text": [
      "libEGL warning: failed to open /dev/dri/renderD135: Permission denied\n",
      "\n",
      "libEGL warning: failed to open /dev/dri/renderD135: Permission denied\n",
      "\n",
      "libEGL warning: failed to open /dev/dri/renderD134: Permission denied\n",
      "\n",
      "libEGL warning: failed to open /dev/dri/renderD134: Permission denied\n",
      "\n",
      "libEGL warning: failed to open /dev/dri/renderD133: Permission denied\n",
      "\n",
      "libEGL warning: failed to open /dev/dri/renderD133: Permission denied\n",
      "\n",
      "libEGL warning: failed to open /dev/dri/renderD132: Permission denied\n",
      "\n",
      "libEGL warning: failed to open /dev/dri/renderD132: Permission denied\n",
      "\n",
      "libEGL warning: failed to open /dev/dri/renderD131: Permission denied\n",
      "\n",
      "libEGL warning: failed to open /dev/dri/renderD131: Permission denied\n",
      "\n",
      "libEGL warning: failed to open /dev/dri/renderD130: Permission denied\n",
      "\n",
      "libEGL warning: failed to open /dev/dri/renderD130: Permission denied\n",
      "\n",
      "libEGL warning: failed to open /dev/dri/renderD129: Permission denied\n",
      "\n",
      "libEGL warning: failed to open /dev/dri/renderD129: Permission denied\n",
      "\n",
      "libEGL warning: failed to open /dev/dri/renderD128: Permission denied\n",
      "\n",
      "libEGL warning: failed to open /dev/dri/renderD128: Permission denied\n",
      "\n",
      "libEGL warning: MESA-LOADER: failed to open swrast: /usr/lib/dri/swrast_dri.so: cannot open shared object file: No such file or directory (search paths /usr/lib/x86_64-linux-gnu/dri:\\$${ORIGIN}/dri:/usr/lib/dri, suffix _dri)\n",
      "\n",
      "libEGL warning: MESA-LOADER: failed to open swrast: /usr/lib/dri/swrast_dri.so: cannot open shared object file: No such file or directory (search paths /usr/lib/x86_64-linux-gnu/dri:\\$${ORIGIN}/dri:/usr/lib/dri, suffix _dri)\n",
      "\n"
     ]
    },
    {
     "name": "stdout",
     "output_type": "stream",
     "text": [
      "pygame 2.4.0 (SDL 2.26.4, Python 3.8.12)\n",
      "Hello from the pygame community. https://www.pygame.org/contribute.html\n"
     ]
    }
   ],
   "source": [
    "import gym, gymnasium\n",
    "from gym_wrapper import GymFromGymnasium, MultiDiscreteToDiscreteWrapper\n",
    "from stable_baselines3.common.vec_env import VecMonitor, VecNormalize, DummyVecEnv"
   ]
  },
  {
   "cell_type": "code",
   "execution_count": 2,
   "metadata": {},
   "outputs": [],
   "source": [
    "def _init():\n",
    "    env = gymnasium.make(\"memory_gym:MortarMayhem-v0\")\n",
    "    env = MultiDiscreteToDiscreteWrapper(GymFromGymnasium(env))\n",
    "    return env\n",
    "# env = DummyVecEnv([_init for _ in range(1)])\n",
    "# env = VecMonitor(env)"
   ]
  },
  {
   "cell_type": "code",
   "execution_count": 3,
   "metadata": {},
   "outputs": [
    {
     "data": {
      "text/plain": [
       "<MultiDiscreteToDiscreteWrapper<GymFromGymnasium instance>>"
      ]
     },
     "execution_count": 3,
     "metadata": {},
     "output_type": "execute_result"
    }
   ],
   "source": [
    "env = _init()\n",
    "env"
   ]
  },
  {
   "cell_type": "code",
   "execution_count": 4,
   "metadata": {},
   "outputs": [
    {
     "data": {
      "text/plain": [
       "(84, 3)"
      ]
     },
     "execution_count": 4,
     "metadata": {},
     "output_type": "execute_result"
    }
   ],
   "source": [
    "env.reset()[0].shape"
   ]
  },
  {
   "cell_type": "code",
   "execution_count": 5,
   "metadata": {},
   "outputs": [],
   "source": [
    "from stable_baselines3.common.env_checker import check_env"
   ]
  },
  {
   "cell_type": "code",
   "execution_count": 6,
   "metadata": {},
   "outputs": [
    {
     "name": "stderr",
     "output_type": "stream",
     "text": [
      "/common/home/sj1030/miniconda3/envs/helm/lib/python3.8/site-packages/stable_baselines3/common/env_checker.py:26: UserWarning: It seems that your observation  is an image but the `dtype` of your observation_space is not `np.uint8`. If your observation is not an image, we recommend you to flatten the observation to have only a 1D vector\n",
      "  warnings.warn(\n",
      "/common/home/sj1030/miniconda3/envs/helm/lib/python3.8/site-packages/stable_baselines3/common/env_checker.py:34: UserWarning: It seems that your observation space  is an image but the upper and lower bounds are not in [0, 255]. Because the CNN policy normalize automatically the observation you may encounter issue if the values are not in that range.\n",
      "  warnings.warn(\n"
     ]
    }
   ],
   "source": [
    "check_env(env)"
   ]
  },
  {
   "cell_type": "code",
   "execution_count": null,
   "metadata": {},
   "outputs": [],
   "source": []
  }
 ],
 "metadata": {
  "kernelspec": {
   "display_name": "Python 3 (ipykernel)",
   "language": "python",
   "name": "python3"
  },
  "language_info": {
   "codemirror_mode": {
    "name": "ipython",
    "version": 3
   },
   "file_extension": ".py",
   "mimetype": "text/x-python",
   "name": "python",
   "nbconvert_exporter": "python",
   "pygments_lexer": "ipython3",
   "version": "3.8.12"
  }
 },
 "nbformat": 4,
 "nbformat_minor": 4
}
